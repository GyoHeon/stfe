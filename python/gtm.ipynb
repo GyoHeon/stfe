{
 "cells": [
  {
   "cell_type": "code",
   "execution_count": 60,
   "metadata": {},
   "outputs": [],
   "source": [
    "import pandas as pd\n",
    "from dotenv import load_dotenv\n",
    "import os\n",
    "from google.oauth2 import service_account\n",
    "from googleapiclient.discovery import build"
   ]
  },
  {
   "cell_type": "code",
   "execution_count": 61,
   "metadata": {},
   "outputs": [],
   "source": [
    "SERVICE_ACCOUNT_FILE = './xlsx/gtm-api-409502-6f8362f190d7.json'\n",
    "\n",
    "# 서비스 계정을 사용하여 인증 정보 생성\n",
    "credentials_container = service_account.Credentials.from_service_account_file(\n",
    "    SERVICE_ACCOUNT_FILE,\n",
    "    scopes=[\"https://www.googleapis.com/auth/tagmanager.edit.containers\"]\n",
    ")\n",
    "credentials_variables = service_account.Credentials.from_service_account_file(\n",
    "    SERVICE_ACCOUNT_FILE,\n",
    "    scopes=[\"https://www.googleapis.com/auth/tagmanager.edit.built_in_variables\"]\n",
    ")\n",
    "credentials_tags = service_account.Credentials.from_service_account_file(\n",
    "    SERVICE_ACCOUNT_FILE,\n",
    "    scopes=[\"https://www.googleapis.com/auth/tagmanager.edit.tags\"]\n",
    ")\n",
    "credentials_triggers = service_account.Credentials.from_service_account_file(\n",
    "    SERVICE_ACCOUNT_FILE,\n",
    "    scopes=[\"https://www.googleapis.com/auth/tagmanager.edit.triggers\"]\n",
    ")\n",
    "\n",
    "# Google Tag Manager 서비스 객체 생성\n",
    "service_container = build('tagmanager', 'v2', credentials = credentials_container)"
   ]
  },
  {
   "cell_type": "code",
   "execution_count": 67,
   "metadata": {},
   "outputs": [
    {
     "name": "stdout",
     "output_type": "stream",
     "text": [
      "{'path': 'accounts/6003640738/containers/43563736', 'accountId': '6003640738', 'containerId': '43563736', 'name': '교보문고', 'publicId': 'GTM-WPXF8VR', 'usageContext': ['web'], 'fingerprint': '1618289537669', 'tagManagerUrl': 'https://tagmanager.google.com/#/container/accounts/6003640738/containers/43563736/workspaces?apiLink=container', 'features': {'supportUserPermissions': True, 'supportEnvironments': True, 'supportWorkspaces': True, 'supportGtagConfigs': False, 'supportBuiltInVariables': True, 'supportClients': False, 'supportFolders': True, 'supportTags': True, 'supportTemplates': True, 'supportTriggers': True, 'supportVariables': True, 'supportVersions': True, 'supportZones': True, 'supportTransformations': False}, 'tagIds': ['GTM-WPXF8VR']}\n"
     ]
    }
   ],
   "source": [
    "load_dotenv()\n",
    "\n",
    "gtm_id = os.environ[\"GTM_ACCOUNT_ID\"]\n",
    "\n",
    "containers = service_container.accounts().containers().list(\n",
    "  parent='accounts/'+gtm_id\n",
    ").execute()\n",
    "\n",
    "print(containers['container'][0])"
   ]
  },
  {
   "cell_type": "code",
   "execution_count": null,
   "metadata": {},
   "outputs": [],
   "source": [
    "variables = service_container.accounts().containers().variables().get(\n",
    "  parent='accounts/'+gtm_id+'/containers/'+containers['container'][0]['containerId']+'/workspaces/'+containers['container'][0]['workspace'][0]['workspaceId'],\n",
    ").execute()\n",
    "\n",
    "print(variables)"
   ]
  },
  {
   "cell_type": "code",
   "execution_count": 24,
   "metadata": {},
   "outputs": [
    {
     "name": "stdout",
     "output_type": "stream",
     "text": [
      "path accounts/6003640738/containers/43563736\n",
      "accountId 6003640738\n",
      "containerId 43563736\n",
      "name 교보문고\n",
      "publicId GTM-WPXF8VR\n",
      "usageContext ['web']\n",
      "fingerprint 1618289537669\n",
      "tagManagerUrl https://tagmanager.google.com/#/container/accounts/6003640738/containers/43563736/workspaces?apiLink=container\n",
      "features {'supportUserPermissions': True, 'supportEnvironments': True, 'supportWorkspaces': True, 'supportGtagConfigs': False, 'supportBuiltInVariables': True, 'supportClients': False, 'supportFolders': True, 'supportTags': True, 'supportTemplates': True, 'supportTriggers': True, 'supportVariables': True, 'supportVersions': True, 'supportZones': True, 'supportTransformations': False}\n",
      "tagIds ['GTM-WPXF8VR']\n",
      "path accounts/6003640738/containers/90556056\n",
      "accountId 6003640738\n",
      "containerId 90556056\n",
      "name 교보문고_renewal\n",
      "publicId GTM-TWGDFSP\n",
      "usageContext ['web']\n",
      "fingerprint 1659072395860\n",
      "tagManagerUrl https://tagmanager.google.com/#/container/accounts/6003640738/containers/90556056/workspaces?apiLink=container\n",
      "features {'supportUserPermissions': True, 'supportEnvironments': True, 'supportWorkspaces': True, 'supportGtagConfigs': False, 'supportBuiltInVariables': True, 'supportClients': False, 'supportFolders': True, 'supportTags': True, 'supportTemplates': True, 'supportTriggers': True, 'supportVariables': True, 'supportVersions': True, 'supportZones': True, 'supportTransformations': False}\n",
      "tagIds ['GTM-TWGDFSP']\n",
      "path accounts/6003640738/containers/171531558\n",
      "accountId 6003640738\n",
      "containerId 171531558\n",
      "name 스콜라\n",
      "publicId GTM-5S5SVQT5\n",
      "usageContext ['web']\n",
      "fingerprint 1700620943691\n",
      "tagManagerUrl https://tagmanager.google.com/#/container/accounts/6003640738/containers/171531558/workspaces?apiLink=container\n",
      "features {'supportUserPermissions': True, 'supportEnvironments': True, 'supportWorkspaces': True, 'supportGtagConfigs': False, 'supportBuiltInVariables': True, 'supportClients': False, 'supportFolders': True, 'supportTags': True, 'supportTemplates': True, 'supportTriggers': True, 'supportVariables': True, 'supportVersions': True, 'supportZones': True, 'supportTransformations': False}\n",
      "tagIds ['GTM-5S5SVQT5']\n",
      "path accounts/6003640738/containers/171539013\n",
      "accountId 6003640738\n",
      "containerId 171539013\n",
      "name 스토리\n",
      "publicId GTM-5W4M4L69\n",
      "usageContext ['web']\n",
      "fingerprint 1700621673748\n",
      "tagManagerUrl https://tagmanager.google.com/#/container/accounts/6003640738/containers/171539013/workspaces?apiLink=container\n",
      "features {'supportUserPermissions': True, 'supportEnvironments': True, 'supportWorkspaces': True, 'supportGtagConfigs': False, 'supportBuiltInVariables': True, 'supportClients': False, 'supportFolders': True, 'supportTags': True, 'supportTemplates': True, 'supportTriggers': True, 'supportVariables': True, 'supportVersions': True, 'supportZones': True, 'supportTransformations': False}\n",
      "tagIds ['GTM-5W4M4L69']\n",
      "path accounts/6003640738/containers/171540517\n",
      "accountId 6003640738\n",
      "containerId 171540517\n",
      "name 전자도서관\n",
      "publicId GTM-N5SJCGX5\n",
      "usageContext ['web']\n",
      "fingerprint 1700620926213\n",
      "tagManagerUrl https://tagmanager.google.com/#/container/accounts/6003640738/containers/171540517/workspaces?apiLink=container\n",
      "features {'supportUserPermissions': True, 'supportEnvironments': True, 'supportWorkspaces': True, 'supportGtagConfigs': False, 'supportBuiltInVariables': True, 'supportClients': False, 'supportFolders': True, 'supportTags': True, 'supportTemplates': True, 'supportTriggers': True, 'supportVariables': True, 'supportVersions': True, 'supportZones': True, 'supportTransformations': False}\n",
      "tagIds ['GTM-N5SJCGX5']\n",
      "path accounts/6003640738/containers/171541415\n",
      "accountId 6003640738\n",
      "containerId 171541415\n",
      "name 리딩트리\n",
      "publicId GTM-TP8ZN3V9\n",
      "usageContext ['web']\n",
      "fingerprint 1700619402056\n",
      "tagManagerUrl https://tagmanager.google.com/#/container/accounts/6003640738/containers/171541415/workspaces?apiLink=container\n",
      "features {'supportUserPermissions': True, 'supportEnvironments': True, 'supportWorkspaces': True, 'supportGtagConfigs': False, 'supportBuiltInVariables': True, 'supportClients': False, 'supportFolders': True, 'supportTags': True, 'supportTemplates': True, 'supportTriggers': True, 'supportVariables': True, 'supportVersions': True, 'supportZones': True, 'supportTransformations': False}\n",
      "tagIds ['GTM-TP8ZN3V9']\n"
     ]
    }
   ],
   "source": [
    "for container in containers['container']:\n",
    "    for key, value in container .items():\n",
    "        print(key, value)"
   ]
  },
  {
   "cell_type": "code",
   "execution_count": 16,
   "metadata": {},
   "outputs": [],
   "source": [
    "def get_sheet_name(excel):\n",
    "    sheet_names = excel.sheet_names\n",
    "    return sheet_names\n",
    "\n",
    "def read_sheet(excel_file, sheet_name):\n",
    "    return pd.read_excel(excel_file, sheet_name=sheet_name)\n",
    "\n",
    "def read_column_name(sheet):\n",
    "    return sheet.columns"
   ]
  },
  {
   "cell_type": "code",
   "execution_count": 41,
   "metadata": {},
   "outputs": [
    {
     "name": "stdout",
     "output_type": "stream",
     "text": [
      "Index(['변수명', '변수 유형', '데이터 영역 변수 이름', '비고'], dtype='object')\n",
      "                   변수명      변수 유형  데이터 영역 변수 이름\n",
      "0          GA4 - 측정 ID         상수  G-HNNQ7TSLY9\n",
      "1       DLV - platform  데이터 영역 변수      platform\n",
      "2      DLV - is_member  데이터 영역 변수     is_member\n",
      "3     DLV - library_id  데이터 영역 변수    library_id\n",
      "4        DLV - library  데이터 영역 변수       library\n",
      "5  DLV - library_model  데이터 영역 변수     데이터 영역 변수\n",
      "6        DLV - user_id  데이터 영역 변수       user_id\n",
      "7         DLV - method  데이터 영역 변수        method\n",
      "8    DLV - signup_date  데이터 영역 변수   signup_date\n",
      "9    DLV - login_count  데이터 영역 변수   login_count\n"
     ]
    }
   ],
   "source": [
    "xls = pd.ExcelFile('./xlsx/library.xlsx')\n",
    "\n",
    "sheet_names = get_sheet_name(xls)\n",
    "sheet = read_sheet(xls, sheet_names[0])\n",
    "column_name = read_column_name(sheet)"
   ]
  },
  {
   "cell_type": "code",
   "execution_count": 44,
   "metadata": {},
   "outputs": [
    {
     "name": "stdout",
     "output_type": "stream",
     "text": [
      "GA4 - 측정 ID\n",
      "DLV - platform\n",
      "DLV - is_member\n",
      "DLV - library_id\n",
      "DLV - library\n",
      "DLV - library_model\n",
      "DLV - user_id\n",
      "DLV - method\n",
      "DLV - signup_date\n",
      "DLV - login_count\n",
      "DLV - total_borrow\n",
      "DLV - total_return\n",
      "DLV - total_reservation\n",
      "DLV - recent_login_date\n",
      "DLV - message\n",
      "DLV - Child - alt\n",
      "DLV - ecommerce.items\n",
      "DLV - ecommerce.items.0.item_id\n",
      "DLV - ecommerce.items.0.item_type\n",
      "DLV - ecommerce.items.0.item_name\n",
      "DLV - ecommerce.items.0.item_category\n",
      "DLV - ecommerce.items.0.item_category2\n",
      "DLV - ecommerce.items.0.item_category3\n",
      "DLV - ecommerce.items.0.affiliation\n",
      "DLV - ecommerce.items.0.item_brand\n",
      "DLV - ecommerce.items.0.index\n",
      "DLV - item_list_name\n",
      "DLV - item_list_id\n",
      "DLV - item_list_tab\n",
      "DLV - type\n",
      "DLV - title\n",
      "DLV - search_term\n",
      "DLV - P1 - Class\n",
      "DLV - P - 상위 메뉴(PC)\n",
      "DLV - filter.allClstCheck\n",
      "DLV - filter.cttsClstCheck\n",
      "DLV - filter.autrClstCheck\n",
      "DLV - filter.pbcmClstCheck\n",
      "DLV - filter.allDvsnCheck\n",
      "DLV - filter.001DvsnCheck\n",
      "DLV - filter.002DvsnCheck\n",
      "DLV - filter.003DvsnCheck\n",
      "DLV - filter.993DvsnCheck\n",
      "DLV - filter.006DvsnCheck\n",
      "DLV - filter.990DvsnCheck\n",
      "DLV - tagName\n"
     ]
    },
    {
     "name": "stderr",
     "output_type": "stream",
     "text": [
      "/var/folders/xq/qf2k1k454qb_jfv62h4qfhn00000gn/T/ipykernel_6934/146221506.py:2: FutureWarning: Series.__getitem__ treating keys as positions is deprecated. In a future version, integer keys will always be treated as labels (consistent with DataFrame behavior). To access a value by position, use `ser.iloc[pos]`\n",
      "  print(row[0])\n"
     ]
    }
   ],
   "source": [
    "for row in sheet.iloc():\n",
    "    print(row[0])"
   ]
  },
  {
   "cell_type": "code",
   "execution_count": null,
   "metadata": {},
   "outputs": [],
   "source": []
  }
 ],
 "metadata": {
  "kernelspec": {
   "display_name": "Python 3",
   "language": "python",
   "name": "python3"
  },
  "language_info": {
   "codemirror_mode": {
    "name": "ipython",
    "version": 3
   },
   "file_extension": ".py",
   "mimetype": "text/x-python",
   "name": "python",
   "nbconvert_exporter": "python",
   "pygments_lexer": "ipython3",
   "version": "3.9.6"
  }
 },
 "nbformat": 4,
 "nbformat_minor": 2
}
