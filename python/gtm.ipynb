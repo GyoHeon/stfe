{
 "cells": [
  {
   "cell_type": "code",
   "execution_count": 18,
   "metadata": {},
   "outputs": [
    {
     "data": {
      "text/plain": [
       "True"
      ]
     },
     "execution_count": 18,
     "metadata": {},
     "output_type": "execute_result"
    }
   ],
   "source": [
    "import pandas as pd\n",
    "from dotenv import load_dotenv\n",
    "import os\n",
    "\n",
    "load_dotenv()"
   ]
  },
  {
   "cell_type": "code",
   "execution_count": 19,
   "metadata": {},
   "outputs": [],
   "source": [
    "from google.oauth2 import service_account\n",
    "from googleapiclient.discovery import build\n",
    "\n",
    "SERVICE_ACCOUNT_FILE = './xlsx/gtm-api-409502-6f8362f190d7.json'\n",
    "\n",
    "# 서비스 계정을 사용하여 인증 정보 생성\n",
    "credentials = service_account.Credentials.from_service_account_file(\n",
    "    SERVICE_ACCOUNT_FILE,\n",
    "    scopes=[\"https://www.googleapis.com/auth/tagmanager.edit.containers\"]\n",
    ")\n",
    "\n",
    "# Google Tag Manager 서비스 객체 생성\n",
    "service = build('tagmanager', 'v2', credentials=credentials)"
   ]
  },
  {
   "cell_type": "code",
   "execution_count": 20,
   "metadata": {},
   "outputs": [
    {
     "name": "stdout",
     "output_type": "stream",
     "text": [
      "{'container': [{'path': 'accounts/6003640738/containers/43563736', 'accountId': '6003640738', 'containerId': '43563736', 'name': '교보문고', 'publicId': 'GTM-WPXF8VR', 'usageContext': ['web'], 'fingerprint': '1618289537669', 'tagManagerUrl': 'https://tagmanager.google.com/#/container/accounts/6003640738/containers/43563736/workspaces?apiLink=container', 'features': {'supportUserPermissions': True, 'supportEnvironments': True, 'supportWorkspaces': True, 'supportGtagConfigs': False, 'supportBuiltInVariables': True, 'supportClients': False, 'supportFolders': True, 'supportTags': True, 'supportTemplates': True, 'supportTriggers': True, 'supportVariables': True, 'supportVersions': True, 'supportZones': True, 'supportTransformations': False}, 'tagIds': ['GTM-WPXF8VR']}, {'path': 'accounts/6003640738/containers/90556056', 'accountId': '6003640738', 'containerId': '90556056', 'name': '교보문고_renewal', 'publicId': 'GTM-TWGDFSP', 'usageContext': ['web'], 'fingerprint': '1659072395860', 'tagManagerUrl': 'https://tagmanager.google.com/#/container/accounts/6003640738/containers/90556056/workspaces?apiLink=container', 'features': {'supportUserPermissions': True, 'supportEnvironments': True, 'supportWorkspaces': True, 'supportGtagConfigs': False, 'supportBuiltInVariables': True, 'supportClients': False, 'supportFolders': True, 'supportTags': True, 'supportTemplates': True, 'supportTriggers': True, 'supportVariables': True, 'supportVersions': True, 'supportZones': True, 'supportTransformations': False}, 'tagIds': ['GTM-TWGDFSP']}, {'path': 'accounts/6003640738/containers/171531558', 'accountId': '6003640738', 'containerId': '171531558', 'name': '스콜라', 'publicId': 'GTM-5S5SVQT5', 'usageContext': ['web'], 'fingerprint': '1700620943691', 'tagManagerUrl': 'https://tagmanager.google.com/#/container/accounts/6003640738/containers/171531558/workspaces?apiLink=container', 'features': {'supportUserPermissions': True, 'supportEnvironments': True, 'supportWorkspaces': True, 'supportGtagConfigs': False, 'supportBuiltInVariables': True, 'supportClients': False, 'supportFolders': True, 'supportTags': True, 'supportTemplates': True, 'supportTriggers': True, 'supportVariables': True, 'supportVersions': True, 'supportZones': True, 'supportTransformations': False}, 'tagIds': ['GTM-5S5SVQT5']}, {'path': 'accounts/6003640738/containers/171539013', 'accountId': '6003640738', 'containerId': '171539013', 'name': '스토리', 'publicId': 'GTM-5W4M4L69', 'usageContext': ['web'], 'fingerprint': '1700621673748', 'tagManagerUrl': 'https://tagmanager.google.com/#/container/accounts/6003640738/containers/171539013/workspaces?apiLink=container', 'features': {'supportUserPermissions': True, 'supportEnvironments': True, 'supportWorkspaces': True, 'supportGtagConfigs': False, 'supportBuiltInVariables': True, 'supportClients': False, 'supportFolders': True, 'supportTags': True, 'supportTemplates': True, 'supportTriggers': True, 'supportVariables': True, 'supportVersions': True, 'supportZones': True, 'supportTransformations': False}, 'tagIds': ['GTM-5W4M4L69']}, {'path': 'accounts/6003640738/containers/171540517', 'accountId': '6003640738', 'containerId': '171540517', 'name': '전자도서관', 'publicId': 'GTM-N5SJCGX5', 'usageContext': ['web'], 'fingerprint': '1700620926213', 'tagManagerUrl': 'https://tagmanager.google.com/#/container/accounts/6003640738/containers/171540517/workspaces?apiLink=container', 'features': {'supportUserPermissions': True, 'supportEnvironments': True, 'supportWorkspaces': True, 'supportGtagConfigs': False, 'supportBuiltInVariables': True, 'supportClients': False, 'supportFolders': True, 'supportTags': True, 'supportTemplates': True, 'supportTriggers': True, 'supportVariables': True, 'supportVersions': True, 'supportZones': True, 'supportTransformations': False}, 'tagIds': ['GTM-N5SJCGX5']}, {'path': 'accounts/6003640738/containers/171541415', 'accountId': '6003640738', 'containerId': '171541415', 'name': '리딩트리', 'publicId': 'GTM-TP8ZN3V9', 'usageContext': ['web'], 'fingerprint': '1700619402056', 'tagManagerUrl': 'https://tagmanager.google.com/#/container/accounts/6003640738/containers/171541415/workspaces?apiLink=container', 'features': {'supportUserPermissions': True, 'supportEnvironments': True, 'supportWorkspaces': True, 'supportGtagConfigs': False, 'supportBuiltInVariables': True, 'supportClients': False, 'supportFolders': True, 'supportTags': True, 'supportTemplates': True, 'supportTriggers': True, 'supportVariables': True, 'supportVersions': True, 'supportZones': True, 'supportTransformations': False}, 'tagIds': ['GTM-TP8ZN3V9']}]}\n"
     ]
    }
   ],
   "source": [
    "gtm_email = os.environ[\"GTM_EMAIL\"]\n",
    "gtm_id = os.environ[\"GTM_ACCOUNT_ID\"]\n",
    "\n",
    "container = service.accounts().containers().list(\n",
    "  parent='accounts/'+gtm_id\n",
    ").execute()\n",
    "\n",
    "print(container)"
   ]
  },
  {
   "cell_type": "code",
   "execution_count": 21,
   "metadata": {},
   "outputs": [
    {
     "name": "stdout",
     "output_type": "stream",
     "text": [
      "path accounts/6003640738/containers/43563736\n",
      "accountId 6003640738\n",
      "containerId 43563736\n",
      "name 교보문고\n",
      "publicId GTM-WPXF8VR\n",
      "usageContext ['web']\n",
      "fingerprint 1618289537669\n",
      "tagManagerUrl https://tagmanager.google.com/#/container/accounts/6003640738/containers/43563736/workspaces?apiLink=container\n",
      "features {'supportUserPermissions': True, 'supportEnvironments': True, 'supportWorkspaces': True, 'supportGtagConfigs': False, 'supportBuiltInVariables': True, 'supportClients': False, 'supportFolders': True, 'supportTags': True, 'supportTemplates': True, 'supportTriggers': True, 'supportVariables': True, 'supportVersions': True, 'supportZones': True, 'supportTransformations': False}\n",
      "tagIds ['GTM-WPXF8VR']\n",
      "path accounts/6003640738/containers/90556056\n",
      "accountId 6003640738\n",
      "containerId 90556056\n",
      "name 교보문고_renewal\n",
      "publicId GTM-TWGDFSP\n",
      "usageContext ['web']\n",
      "fingerprint 1659072395860\n",
      "tagManagerUrl https://tagmanager.google.com/#/container/accounts/6003640738/containers/90556056/workspaces?apiLink=container\n",
      "features {'supportUserPermissions': True, 'supportEnvironments': True, 'supportWorkspaces': True, 'supportGtagConfigs': False, 'supportBuiltInVariables': True, 'supportClients': False, 'supportFolders': True, 'supportTags': True, 'supportTemplates': True, 'supportTriggers': True, 'supportVariables': True, 'supportVersions': True, 'supportZones': True, 'supportTransformations': False}\n",
      "tagIds ['GTM-TWGDFSP']\n",
      "path accounts/6003640738/containers/171531558\n",
      "accountId 6003640738\n",
      "containerId 171531558\n",
      "name 스콜라\n",
      "publicId GTM-5S5SVQT5\n",
      "usageContext ['web']\n",
      "fingerprint 1700620943691\n",
      "tagManagerUrl https://tagmanager.google.com/#/container/accounts/6003640738/containers/171531558/workspaces?apiLink=container\n",
      "features {'supportUserPermissions': True, 'supportEnvironments': True, 'supportWorkspaces': True, 'supportGtagConfigs': False, 'supportBuiltInVariables': True, 'supportClients': False, 'supportFolders': True, 'supportTags': True, 'supportTemplates': True, 'supportTriggers': True, 'supportVariables': True, 'supportVersions': True, 'supportZones': True, 'supportTransformations': False}\n",
      "tagIds ['GTM-5S5SVQT5']\n",
      "path accounts/6003640738/containers/171539013\n",
      "accountId 6003640738\n",
      "containerId 171539013\n",
      "name 스토리\n",
      "publicId GTM-5W4M4L69\n",
      "usageContext ['web']\n",
      "fingerprint 1700621673748\n",
      "tagManagerUrl https://tagmanager.google.com/#/container/accounts/6003640738/containers/171539013/workspaces?apiLink=container\n",
      "features {'supportUserPermissions': True, 'supportEnvironments': True, 'supportWorkspaces': True, 'supportGtagConfigs': False, 'supportBuiltInVariables': True, 'supportClients': False, 'supportFolders': True, 'supportTags': True, 'supportTemplates': True, 'supportTriggers': True, 'supportVariables': True, 'supportVersions': True, 'supportZones': True, 'supportTransformations': False}\n",
      "tagIds ['GTM-5W4M4L69']\n",
      "path accounts/6003640738/containers/171540517\n",
      "accountId 6003640738\n",
      "containerId 171540517\n",
      "name 전자도서관\n",
      "publicId GTM-N5SJCGX5\n",
      "usageContext ['web']\n",
      "fingerprint 1700620926213\n",
      "tagManagerUrl https://tagmanager.google.com/#/container/accounts/6003640738/containers/171540517/workspaces?apiLink=container\n",
      "features {'supportUserPermissions': True, 'supportEnvironments': True, 'supportWorkspaces': True, 'supportGtagConfigs': False, 'supportBuiltInVariables': True, 'supportClients': False, 'supportFolders': True, 'supportTags': True, 'supportTemplates': True, 'supportTriggers': True, 'supportVariables': True, 'supportVersions': True, 'supportZones': True, 'supportTransformations': False}\n",
      "tagIds ['GTM-N5SJCGX5']\n",
      "path accounts/6003640738/containers/171541415\n",
      "accountId 6003640738\n",
      "containerId 171541415\n",
      "name 리딩트리\n",
      "publicId GTM-TP8ZN3V9\n",
      "usageContext ['web']\n",
      "fingerprint 1700619402056\n",
      "tagManagerUrl https://tagmanager.google.com/#/container/accounts/6003640738/containers/171541415/workspaces?apiLink=container\n",
      "features {'supportUserPermissions': True, 'supportEnvironments': True, 'supportWorkspaces': True, 'supportGtagConfigs': False, 'supportBuiltInVariables': True, 'supportClients': False, 'supportFolders': True, 'supportTags': True, 'supportTemplates': True, 'supportTriggers': True, 'supportVariables': True, 'supportVersions': True, 'supportZones': True, 'supportTransformations': False}\n",
      "tagIds ['GTM-TP8ZN3V9']\n"
     ]
    }
   ],
   "source": [
    "for container_one in container['container']:\n",
    "    for key, value in container_one.items():\n",
    "        print(key, value)"
   ]
  },
  {
   "cell_type": "code",
   "execution_count": 16,
   "metadata": {},
   "outputs": [],
   "source": [
    "def get_sheet_name(excel):\n",
    "    sheet_names = excel.sheet_names\n",
    "    return sheet_names\n",
    "\n",
    "def read_sheet(excel_file, sheet_name):\n",
    "    return pd.read_excel(excel_file, sheet_name=sheet_name)\n",
    "\n",
    "def read_column_name(sheet):\n",
    "    return sheet.columns"
   ]
  },
  {
   "cell_type": "code",
   "execution_count": 40,
   "metadata": {},
   "outputs": [
    {
     "name": "stdout",
     "output_type": "stream",
     "text": [
      "Index(['변수명', '변수 유형', '데이터 영역 변수 이름', '비고'], dtype='object')\n"
     ]
    }
   ],
   "source": [
    "xls = pd.ExcelFile('./xlsx/library.xlsx')\n",
    "\n",
    "sheet_names = get_sheet_name(xls)\n",
    "sheet = read_sheet(xls, sheet_names[0])\n",
    "column_name = read_column_name(sheet)\n",
    "\n",
    "print(column_name)"
   ]
  },
  {
   "cell_type": "code",
   "execution_count": 41,
   "metadata": {},
   "outputs": [
    {
     "data": {
      "text/plain": [
       "'변수 유형'"
      ]
     },
     "execution_count": 41,
     "metadata": {},
     "output_type": "execute_result"
    }
   ],
   "source": [
    "column_name[1]"
   ]
  },
  {
   "cell_type": "code",
   "execution_count": 39,
   "metadata": {},
   "outputs": [],
   "source": [
    "def read_data(sheet_name):\n",
    "    sheet = read_sheet(sheet_name)\n",
    "    for i in range(len(sheet)):\n",
    "        print(sheet.iloc[i])\n",
    "\n",
    "    return"
   ]
  },
  {
   "cell_type": "code",
   "execution_count": null,
   "metadata": {},
   "outputs": [],
   "source": []
  }
 ],
 "metadata": {
  "kernelspec": {
   "display_name": "Python 3",
   "language": "python",
   "name": "python3"
  },
  "language_info": {
   "codemirror_mode": {
    "name": "ipython",
    "version": 3
   },
   "file_extension": ".py",
   "mimetype": "text/x-python",
   "name": "python",
   "nbconvert_exporter": "python",
   "pygments_lexer": "ipython3",
   "version": "3.9.6"
  }
 },
 "nbformat": 4,
 "nbformat_minor": 2
}
