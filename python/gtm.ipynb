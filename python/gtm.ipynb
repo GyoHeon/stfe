{
 "cells": [
  {
   "cell_type": "code",
   "execution_count": 270,
   "metadata": {},
   "outputs": [],
   "source": [
    "import pandas as pd\n",
    "from dotenv import load_dotenv\n",
    "import os\n",
    "import time\n",
    "from google.oauth2 import service_account\n",
    "from googleapiclient.discovery import build\n",
    "\n",
    "load_dotenv()\n",
    "\n",
    "gtm_id = os.environ[\"GTM_ACCOUNT_ID\"]"
   ]
  },
  {
   "cell_type": "code",
   "execution_count": 271,
   "metadata": {},
   "outputs": [],
   "source": [
    "def map_type(type):\n",
    "    map = {\n",
    "        '당사 쿠키': 'k',\n",
    "        '상수': 'c',\n",
    "        '데이터 영역 변수': 'v',\n",
    "        'URL': 'u',\n",
    "        '요소 속성': 'aev',\n",
    "        '참고표': 'smm'\n",
    "    }\n",
    "\n",
    "    return map[type]\n",
    "    "
   ]
  },
  {
   "cell_type": "markdown",
   "metadata": {},
   "source": [
    "# Excel"
   ]
  },
  {
   "cell_type": "code",
   "execution_count": 291,
   "metadata": {},
   "outputs": [],
   "source": [
    "xlsx_names = ['kyobo', 'library', 'scholar', 'story', 'tree']\n",
    "service_names = {\n",
    "    '교보문고_renewal': 'kyobo',\n",
    "    '전자도서관': 'library',\n",
    "    '스콜라': 'scholar',\n",
    "    '스토리': 'story',\n",
    "    '리딩트리': 'tree'\n",
    "}\n",
    "\n",
    "def get_xlsx():\n",
    "    res = {}\n",
    "    for name in service_names.values():\n",
    "        res[name]=pd.ExcelFile(f'./xlsx/{name}.xlsx')\n",
    "\n",
    "    return res\n",
    "\n",
    "def get_sheet_name(excel):\n",
    "    sheet_names = excel.sheet_names\n",
    "    return sheet_names\n",
    "\n",
    "def read_sheet(excel_file, sheet_name):\n",
    "    return pd.read_excel(excel_file, sheet_name=sheet_name)"
   ]
  },
  {
   "cell_type": "markdown",
   "metadata": {},
   "source": [
    "# GTM"
   ]
  },
  {
   "cell_type": "code",
   "execution_count": 292,
   "metadata": {},
   "outputs": [],
   "source": [
    "# Get credentials\n",
    "def get_credentials():\n",
    "    SERVICE_ACCOUNT_FILE = './xlsx/gtm-api-409502-6f8362f190d7.json'\n",
    "\n",
    "    credentials_container = service_account.Credentials.from_service_account_file(\n",
    "        SERVICE_ACCOUNT_FILE,\n",
    "        scopes=[\"https://www.googleapis.com/auth/tagmanager.edit.containers\"]\n",
    "    )\n",
    "\n",
    "    return credentials_container\n",
    "\n",
    "credentials = get_credentials()\n",
    "\n",
    "# Get service\n",
    "def get_service():\n",
    "    service = build('tagmanager', 'v2', credentials = credentials)\n",
    "\n",
    "    return service\n",
    "\n",
    "service = get_service()\n",
    "\n",
    "# Get container\n",
    "def get_container():\n",
    "    parent = f\"accounts/{gtm_id}\"\n",
    "\n",
    "    containers = service.accounts().containers().list(\n",
    "        parent=parent,\n",
    "    ).execute()\n",
    "\n",
    "    return containers['container']\n",
    "\n",
    "container_origin = get_container()\n",
    "containers = {}\n",
    "for i in container_origin:\n",
    "    containers[i['name']] = i\n"
   ]
  },
  {
   "cell_type": "markdown",
   "metadata": {},
   "source": [
    "# Set Container"
   ]
  },
  {
   "cell_type": "code",
   "execution_count": 300,
   "metadata": {},
   "outputs": [],
   "source": [
    "service_name = '교보문고_renewal'\n",
    "container = containers[service_name]\n",
    "\n",
    "xlsxs = get_xlsx()\n",
    "xlsx = xlsxs[service_names[service_name]]\n",
    "\n",
    "# Get workspace\n",
    "def get_workspaces():\n",
    "    parent=container['path']\n",
    "\n",
    "    workspace = service.accounts().containers().workspaces().list(\n",
    "        parent=parent\n",
    "    ).execute()\n",
    "\n",
    "    return workspace['workspace']\n",
    "\n",
    "workspace_origin = get_workspaces()\n",
    "\n",
    "workspaces = {}\n",
    "for i in workspace_origin:\n",
    "    workspaces[i['name']] = i\n",
    "\n",
    "workspace = workspaces['new']"
   ]
  },
  {
   "cell_type": "code",
   "execution_count": 301,
   "metadata": {},
   "outputs": [],
   "source": [
    "def get_variables():\n",
    "    parent=workspace['path']\n",
    "\n",
    "    containers = service.accounts().containers().workspaces().variables().list(\n",
    "        parent=parent\n",
    "    ).execute()\n",
    "\n",
    "    return containers\n",
    "\n",
    "def create_gtm_variable(request_body):\n",
    "    parent=workspace['path']\n",
    "\n",
    "    try:\n",
    "        response = service.accounts().containers().workspaces().variables().create(\n",
    "            parent=parent,\n",
    "            body=request_body\n",
    "        ).execute()\n",
    "\n",
    "        print(f\"Created variable: {response['name']}\")\n",
    "        return response\n",
    "    except Exception as e:\n",
    "        print(f\"An error occurred: {e}\")\n",
    "        print(f\"Above error occurred with: {request_body['name']}\")\n"
   ]
  },
  {
   "cell_type": "code",
   "execution_count": 302,
   "metadata": {},
   "outputs": [],
   "source": [
    "def create_dataLayer_variable(sheet):\n",
    "    error = 0\n",
    "    for row in sheet.iloc():\n",
    "        if (row[1] == '상수'):\n",
    "            parameter = [{\n",
    "                'type': 'template',\n",
    "                'key': 'value',\n",
    "                'value': row[2],\n",
    "            }]\n",
    "            type = 'c'\n",
    "        elif (row[1] == '맞춤 자바스크립트'):\n",
    "            parameter = [{\n",
    "                'type': 'template',\n",
    "                'key': 'javascript',\n",
    "                'value': row[2],\n",
    "            }]\n",
    "            type = 'jsm'\n",
    "        elif (row[1] == '당사 쿠키'):\n",
    "            parameter = [{\n",
    "                'type': 'template',\n",
    "                'key': 'name',\n",
    "                'value': row[2],\n",
    "            }]\n",
    "            type = 'k'\n",
    "        else:\n",
    "            parameter = [\n",
    "                {\n",
    "                    'type': 'template',\n",
    "                    'key': 'name',\n",
    "                    'value': row[2],\n",
    "                },\n",
    "                {\n",
    "                    'type': 'integer',\n",
    "                    'key': 'dataLayerVersion',\n",
    "                    'value': 2,\n",
    "                }\n",
    "                ]\n",
    "            type = 'v'\n",
    "\n",
    "        request_body = {\n",
    "            'name': row[0],\n",
    "            'type': type,\n",
    "            'parameter': parameter,\n",
    "        }\n",
    "\n",
    "        try:\n",
    "            create_gtm_variable(request_body)\n",
    "            time.sleep(5)\n",
    "        except Exception as e:\n",
    "            error += 1\n",
    "\n",
    "    print(f\"Error: {error}\")\n"
   ]
  },
  {
   "cell_type": "code",
   "execution_count": 303,
   "metadata": {},
   "outputs": [
    {
     "name": "stdout",
     "output_type": "stream",
     "text": [
      "변수(당사쿠키)\n",
      "변수(데이터 영역)\n",
      "변수(URL)\n",
      "변수(자동이벤트 변수)\n",
      "변수(DOM 요소)\n",
      "변수(맞춤JS)\n",
      "변수(참고표)\n",
      "변수(이벤트 매개변수)\n",
      "트리거(맞춤 이벤트)\n",
      "트리거(페이지뷰)\n",
      "트리거(스크롤 깊이)\n",
      "트리거(링크 클릭)(Web)\n",
      "트리거(링크 클릭)(App)\n",
      "트리거(모든 요소 클릭)(Web)\n",
      "트리거(모든 요소 클릭)(App)\n",
      "태그(맞춤HTML)\n",
      " 태그(Web)\n",
      " 태그(App 이벤트)\n"
     ]
    }
   ],
   "source": [
    "sheet_names = get_sheet_name(xlsx)\n",
    "\n",
    "for i in sheet_names:\n",
    "  print(i)"
   ]
  },
  {
   "cell_type": "code",
   "execution_count": 297,
   "metadata": {},
   "outputs": [
    {
     "name": "stderr",
     "output_type": "stream",
     "text": [
      "/var/folders/xq/qf2k1k454qb_jfv62h4qfhn00000gn/T/ipykernel_20281/2634102849.py:4: FutureWarning: Series.__getitem__ treating keys as positions is deprecated. In a future version, integer keys will always be treated as labels (consistent with DataFrame behavior). To access a value by position, use `ser.iloc[pos]`\n",
      "  if (row[1] == '상수'):\n",
      "/var/folders/xq/qf2k1k454qb_jfv62h4qfhn00000gn/T/ipykernel_20281/2634102849.py:8: FutureWarning: Series.__getitem__ treating keys as positions is deprecated. In a future version, integer keys will always be treated as labels (consistent with DataFrame behavior). To access a value by position, use `ser.iloc[pos]`\n",
      "  'value': row[2],\n",
      "/var/folders/xq/qf2k1k454qb_jfv62h4qfhn00000gn/T/ipykernel_20281/2634102849.py:41: FutureWarning: Series.__getitem__ treating keys as positions is deprecated. In a future version, integer keys will always be treated as labels (consistent with DataFrame behavior). To access a value by position, use `ser.iloc[pos]`\n",
      "  'name': row[0],\n"
     ]
    },
    {
     "name": "stdout",
     "output_type": "stream",
     "text": [
      "Created variable: GA 측정 ID\n",
      "Error: 0\n"
     ]
    },
    {
     "name": "stderr",
     "output_type": "stream",
     "text": [
      "/var/folders/xq/qf2k1k454qb_jfv62h4qfhn00000gn/T/ipykernel_20281/2634102849.py:11: FutureWarning: Series.__getitem__ treating keys as positions is deprecated. In a future version, integer keys will always be treated as labels (consistent with DataFrame behavior). To access a value by position, use `ser.iloc[pos]`\n",
      "  elif (row[1] == '맞춤 자바스크립트'):\n",
      "/var/folders/xq/qf2k1k454qb_jfv62h4qfhn00000gn/T/ipykernel_20281/2634102849.py:18: FutureWarning: Series.__getitem__ treating keys as positions is deprecated. In a future version, integer keys will always be treated as labels (consistent with DataFrame behavior). To access a value by position, use `ser.iloc[pos]`\n",
      "  elif (row[1] == '당사 쿠키'):\n",
      "/var/folders/xq/qf2k1k454qb_jfv62h4qfhn00000gn/T/ipykernel_20281/2634102849.py:30: FutureWarning: Series.__getitem__ treating keys as positions is deprecated. In a future version, integer keys will always be treated as labels (consistent with DataFrame behavior). To access a value by position, use `ser.iloc[pos]`\n",
      "  'value': row[2],\n"
     ]
    },
    {
     "name": "stdout",
     "output_type": "stream",
     "text": [
      "Created variable: DLV - category\n",
      "Created variable: DLV - category2\n",
      "Created variable: DLV - category3\n",
      "Created variable: DLV - category4\n",
      "Created variable: DLV - category5\n",
      "Created variable: DLV - currency\n",
      "Created variable: DLV - group_name\n",
      "Created variable: DLV - group_user\n",
      "Created variable: DLV - company_name\n",
      "Created variable: DLV - readingtree_name\n",
      "Created variable: DLV - readingtree_id\n",
      "Created variable: DLV - reading_activation_score\n",
      "Created variable: DLV - menu\n",
      "Created variable: DLV - deposit\n",
      "Created variable: DLV - read_point\n",
      "Created variable: DLV - ecommerce\n",
      "Created variable: DLV - ecommerce.deposit\n",
      "Created variable: DLV - ecommerce.gift_card\n",
      "Created variable: DLV - ecommerce.kyobo_cash\n",
      "Created variable: DLV - ecommerce.section\n",
      "Created variable: DLV - ecommerce.read_point\n",
      "Created variable: DLV - ecommerce.total_point\n",
      "Created variable: DLV - gift_card\n",
      "Created variable: DLV - item_list_id\n",
      "Created variable: DLV - item_list_name\n",
      "Created variable: DLV - item_list_tab\n",
      "Created variable: DLV - method\n",
      "Created variable: DLV - research_term\n",
      "Created variable: DLV - search_term\n",
      "Created variable: DLV - search_type\n",
      "Created variable: DLV - section\n",
      "Created variable: DLV - title\n",
      "Created variable: DLV - total_point\n",
      "Created variable: DLV - type\n",
      "Created variable: DLV - user_id\n",
      "Error: 0\n",
      "Created variable: DOM - 리딩트리 - view_community - item_list_tab\n",
      "Error: 0\n"
     ]
    }
   ],
   "source": [
    "sheet = read_sheet(xlsx, sheet_names[0])\n",
    "sheet1 = read_sheet(xlsx, sheet_names[1])\n",
    "sheet2 = read_sheet(xlsx, sheet_names[5])\n",
    "\n",
    "create_dataLayer_variable(sheet)\n",
    "create_dataLayer_variable(sheet1)\n",
    "create_dataLayer_variable(sheet2)"
   ]
  },
  {
   "cell_type": "code",
   "execution_count": null,
   "metadata": {},
   "outputs": [],
   "source": []
  }
 ],
 "metadata": {
  "kernelspec": {
   "display_name": "Python 3",
   "language": "python",
   "name": "python3"
  },
  "language_info": {
   "codemirror_mode": {
    "name": "ipython",
    "version": 3
   },
   "file_extension": ".py",
   "mimetype": "text/x-python",
   "name": "python",
   "nbconvert_exporter": "python",
   "pygments_lexer": "ipython3",
   "version": "3.9.6"
  }
 },
 "nbformat": 4,
 "nbformat_minor": 2
}
