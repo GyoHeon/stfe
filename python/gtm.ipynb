{
 "cells": [
  {
   "cell_type": "code",
   "execution_count": 107,
   "metadata": {},
   "outputs": [],
   "source": [
    "import pandas as pd\n",
    "from dotenv import load_dotenv\n",
    "import os\n",
    "from google.oauth2 import service_account\n",
    "from googleapiclient.discovery import build\n",
    "\n",
    "load_dotenv()\n",
    "\n",
    "gtm_id = os.environ[\"GTM_ACCOUNT_ID\"]"
   ]
  },
  {
   "cell_type": "code",
   "execution_count": 126,
   "metadata": {},
   "outputs": [],
   "source": [
    "def get_credentials():\n",
    "    SERVICE_ACCOUNT_FILE = './xlsx/gtm-api-409502-6f8362f190d7.json'\n",
    "\n",
    "    credentials_container = service_account.Credentials.from_service_account_file(\n",
    "        SERVICE_ACCOUNT_FILE,\n",
    "        scopes=[\"https://www.googleapis.com/auth/tagmanager.edit.containers\"]\n",
    "    )\n",
    "\n",
    "    return credentials_container\n",
    "\n",
    "def get_service(credentials):\n",
    "    service = build('tagmanager', 'v2', credentials = credentials)\n",
    "\n",
    "    return service\n",
    "\n",
    "def get_container(service, gtm_id):\n",
    "    parent = 'accounts/' + gtm_id\n",
    "    containers = service.accounts().containers().list(\n",
    "        parent=parent,\n",
    "    ).execute()\n",
    "\n",
    "    return containers\n",
    "\n",
    "def get_workspaces(service, container_id, gtm_id):\n",
    "    parent='accounts/'+gtm_id+'/containers/'+container_id\n",
    "    workspace = service.accounts().containers().workspaces().list(\n",
    "        parent=parent\n",
    "    ).execute()\n",
    "\n",
    "    return workspace['workspace']\n",
    "\n",
    "def get_variables(service, container_id, workspace_id, gtm_id):\n",
    "    parent='accounts/'+gtm_id+'/containers/'+container_id+'/workspaces/'+workspace_id\n",
    "    containers = service.accounts().containers().workspaces().variables().list(\n",
    "        parent=parent\n",
    "    ).execute()\n",
    "\n",
    "    return containers\n",
    "    "
   ]
  },
  {
   "cell_type": "code",
   "execution_count": 109,
   "metadata": {},
   "outputs": [],
   "source": [
    "credentials = get_credentials()\n",
    "service = get_service(credentials)\n",
    "container = get_container(services['container'], gtm_id)['container']\n",
    "container_id = container[1]['containerId']\n",
    "\n",
    "workspace = get_workspaces(services['container'], container_id, gtm_id)\n",
    "workspace_id = workspace[0]['workspaceId']\n",
    "\n",
    "variables = get_variables(services['container'], container_id, workspace_id, gtm_id)['variable']\n"
   ]
  },
  {
   "cell_type": "code",
   "execution_count": 106,
   "metadata": {},
   "outputs": [
    {
     "data": {
      "text/plain": [
       "{'path': 'accounts/6003640738/containers/90556056/workspaces/45/variables/283',\n",
       " 'accountId': '6003640738',\n",
       " 'containerId': '90556056',\n",
       " 'workspaceId': '45',\n",
       " 'variableId': '283',\n",
       " 'name': 'subscribe',\n",
       " 'type': 'jsm',\n",
       " 'parameter': [{'type': 'template',\n",
       "   'key': 'javascript',\n",
       "   'value': 'function() {\\n  return {{Click Element}}.getAttribute(\"data-gtm-click\");\\n}'}],\n",
       " 'fingerprint': '1698633207560',\n",
       " 'tagManagerUrl': 'https://tagmanager.google.com/#/container/accounts/6003640738/containers/90556056/workspaces/45/variables/283?apiLink=variable',\n",
       " 'formatValue': {}}"
      ]
     },
     "execution_count": 106,
     "metadata": {},
     "output_type": "execute_result"
    }
   ],
   "source": [
    "{\n",
    "    'path': 'accounts/6003640738/containers/90556056/workspaces/45/variables/283',\n",
    "    'accountId': '6003640738',\n",
    "    'containerId': '90556056',\n",
    "    'workspaceId': '45',\n",
    "    'variableId': '283',\n",
    "    'name': 'subscribe',\n",
    "    'type': 'jsm',\n",
    "    'parameter': [{\n",
    "        'type': 'template',\n",
    "        'key': 'javascript',\n",
    "        'value': 'function() {\\n  return {{Click Element}}.getAttribute(\"data-gtm-click\");\\n}'\n",
    "    }],\n",
    "    'fingerprint': '1698633207560',\n",
    "    'tagManagerUrl': 'https://tagmanager.google.com/#/container/accounts/6003640738/containers/90556056/workspaces/45/variables/283?apiLink=variable',\n",
    "    'formatValue': {}\n",
    "}"
   ]
  },
  {
   "cell_type": "code",
   "execution_count": 114,
   "metadata": {},
   "outputs": [
    {
     "name": "stdout",
     "output_type": "stream",
     "text": [
      "path accounts/6003640738/containers/90556056/workspaces/45/variables/287\n",
      "accountId 6003640738\n",
      "containerId 90556056\n",
      "workspaceId 45\n",
      "variableId 287\n",
      "name pageTitle\n",
      "type j\n",
      "parameter [{'type': 'template', 'key': 'name', 'value': 'document.title'}]\n",
      "fingerprint 1698712408514\n",
      "tagManagerUrl https://tagmanager.google.com/#/container/accounts/6003640738/containers/90556056/workspaces/45/variables/287?apiLink=variable\n",
      "formatValue {}\n"
     ]
    }
   ],
   "source": [
    "for key, value in variables[0].items():\n",
    "    print(key, value)"
   ]
  },
  {
   "cell_type": "code",
   "execution_count": 118,
   "metadata": {},
   "outputs": [],
   "source": [
    "def get_sheet_name(excel):\n",
    "    sheet_names = excel.sheet_names\n",
    "    return sheet_names\n",
    "\n",
    "def read_sheet(excel_file, sheet_name):\n",
    "    return pd.read_excel(excel_file, sheet_name=sheet_name)\n",
    "\n",
    "def read_column_name(sheet):\n",
    "    return sheet.columns"
   ]
  },
  {
   "cell_type": "code",
   "execution_count": 119,
   "metadata": {},
   "outputs": [],
   "source": [
    "xls = pd.ExcelFile('./xlsx/library.xlsx')\n",
    "\n",
    "sheet_names = get_sheet_name(xls)\n",
    "sheet = read_sheet(xls, sheet_names[0])\n",
    "column_name = read_column_name(sheet)"
   ]
  },
  {
   "cell_type": "code",
   "execution_count": 125,
   "metadata": {},
   "outputs": [
    {
     "name": "stdout",
     "output_type": "stream",
     "text": [
      "{'name': 'GA4 - 측정 ID', 'type': '상수', 'value': 'G-HNNQ7TSLY9'}\n",
      "{'name': 'DLV - platform', 'type': '데이터 영역 변수', 'value': 'platform'}\n",
      "{'name': 'DLV - is_member', 'type': '데이터 영역 변수', 'value': 'is_member'}\n",
      "{'name': 'DLV - library_id', 'type': '데이터 영역 변수', 'value': 'library_id'}\n",
      "{'name': 'DLV - library', 'type': '데이터 영역 변수', 'value': 'library'}\n",
      "{'name': 'DLV - library_model', 'type': '데이터 영역 변수', 'value': '데이터 영역 변수'}\n",
      "{'name': 'DLV - user_id', 'type': '데이터 영역 변수', 'value': 'user_id'}\n",
      "{'name': 'DLV - method', 'type': '데이터 영역 변수', 'value': 'method'}\n",
      "{'name': 'DLV - signup_date', 'type': '데이터 영역 변수', 'value': 'signup_date'}\n",
      "{'name': 'DLV - login_count', 'type': '데이터 영역 변수', 'value': 'login_count'}\n",
      "{'name': 'DLV - total_borrow', 'type': '데이터 영역 변수', 'value': 'total_borrow'}\n",
      "{'name': 'DLV - total_return', 'type': '데이터 영역 변수', 'value': 'total_return'}\n",
      "{'name': 'DLV - total_reservation', 'type': '데이터 영역 변수', 'value': 'total_reservation'}\n",
      "{'name': 'DLV - recent_login_date', 'type': '데이터 영역 변수', 'value': 'recent_login_date'}\n",
      "{'name': 'DLV - message', 'type': '데이터 영역 변수', 'value': 'message'}\n",
      "{'name': 'DLV - Child - alt', 'type': '데이터 영역 변수', 'value': 'gtm.element.children.0.alt'}\n",
      "{'name': 'DLV - ecommerce.items', 'type': '데이터 영역 변수', 'value': 'ecommerce.items'}\n",
      "{'name': 'DLV - ecommerce.items.0.item_id', 'type': '데이터 영역 변수', 'value': 'ecommerce.items.0.item_id'}\n",
      "{'name': 'DLV - ecommerce.items.0.item_type', 'type': '데이터 영역 변수', 'value': 'ecommerce.items.0.item_type'}\n",
      "{'name': 'DLV - ecommerce.items.0.item_name', 'type': '데이터 영역 변수', 'value': 'ecommerce.items.0.item_name'}\n",
      "{'name': 'DLV - ecommerce.items.0.item_category', 'type': '데이터 영역 변수', 'value': 'ecommerce.items.0.item_category'}\n",
      "{'name': 'DLV - ecommerce.items.0.item_category2', 'type': '데이터 영역 변수', 'value': 'ecommerce.items.0.item_category2'}\n",
      "{'name': 'DLV - ecommerce.items.0.item_category3', 'type': '데이터 영역 변수', 'value': 'ecommerce.items.0.item_category3'}\n",
      "{'name': 'DLV - ecommerce.items.0.affiliation', 'type': '데이터 영역 변수', 'value': 'ecommerce.items.0.affiliation'}\n",
      "{'name': 'DLV - ecommerce.items.0.item_brand', 'type': '데이터 영역 변수', 'value': 'ecommerce.items.0.item_brand'}\n",
      "{'name': 'DLV - ecommerce.items.0.index', 'type': '데이터 영역 변수', 'value': 'ecommerce.items.0.index'}\n",
      "{'name': 'DLV - item_list_name', 'type': '데이터 영역 변수', 'value': 'item_list_name'}\n",
      "{'name': 'DLV - item_list_id', 'type': '데이터 영역 변수', 'value': 'item_list_id'}\n",
      "{'name': 'DLV - item_list_tab', 'type': '데이터 영역 변수', 'value': 'item_list_tab'}\n",
      "{'name': 'DLV - type', 'type': '데이터 영역 변수', 'value': 'type'}\n",
      "{'name': 'DLV - title', 'type': '데이터 영역 변수', 'value': 'title'}\n",
      "{'name': 'DLV - search_term', 'type': '데이터 영역 변수', 'value': 'search_term'}\n",
      "{'name': 'DLV - P1 - Class', 'type': '데이터 영역 변수', 'value': 'gtm.element.parentElement.className'}\n",
      "{'name': 'DLV - P - 상위 메뉴(PC)', 'type': '데이터 영역 변수', 'value': 'gtm.element.parentElement.parentElement.parentElement.children.0.textContent'}\n",
      "{'name': 'DLV - filter.allClstCheck', 'type': '데이터 영역 변수', 'value': 'filter.allClstCheck'}\n",
      "{'name': 'DLV - filter.cttsClstCheck', 'type': '데이터 영역 변수', 'value': 'filter.cttsClstCheck'}\n",
      "{'name': 'DLV - filter.autrClstCheck', 'type': '데이터 영역 변수', 'value': 'filter.autrClstCheck'}\n",
      "{'name': 'DLV - filter.pbcmClstCheck', 'type': '데이터 영역 변수', 'value': 'filter.pbcmClstCheck'}\n",
      "{'name': 'DLV - filter.allDvsnCheck', 'type': '데이터 영역 변수', 'value': 'filter.allDvsnCheck'}\n",
      "{'name': 'DLV - filter.001DvsnCheck', 'type': '데이터 영역 변수', 'value': 'filter.001DvsnCheck'}\n",
      "{'name': 'DLV - filter.002DvsnCheck', 'type': '데이터 영역 변수', 'value': 'filter.002DvsnCheck'}\n",
      "{'name': 'DLV - filter.003DvsnCheck', 'type': '데이터 영역 변수', 'value': 'filter.003DvsnCheck'}\n",
      "{'name': 'DLV - filter.993DvsnCheck', 'type': '데이터 영역 변수', 'value': 'filter.993DvsnCheck'}\n",
      "{'name': 'DLV - filter.006DvsnCheck', 'type': '데이터 영역 변수', 'value': 'filter.006DvsnCheck'}\n",
      "{'name': 'DLV - filter.990DvsnCheck', 'type': '데이터 영역 변수', 'value': 'filter.990DvsnCheck'}\n",
      "{'name': 'DLV - tagName', 'type': '데이터 영역 변수', 'value': 'gtm.element.tagName'}\n"
     ]
    },
    {
     "name": "stderr",
     "output_type": "stream",
     "text": [
      "/var/folders/xq/qf2k1k454qb_jfv62h4qfhn00000gn/T/ipykernel_10670/3078349034.py:3: FutureWarning: Series.__getitem__ treating keys as positions is deprecated. In a future version, integer keys will always be treated as labels (consistent with DataFrame behavior). To access a value by position, use `ser.iloc[pos]`\n",
      "  'name': row[0],\n",
      "/var/folders/xq/qf2k1k454qb_jfv62h4qfhn00000gn/T/ipykernel_10670/3078349034.py:4: FutureWarning: Series.__getitem__ treating keys as positions is deprecated. In a future version, integer keys will always be treated as labels (consistent with DataFrame behavior). To access a value by position, use `ser.iloc[pos]`\n",
      "  'type': row[1],\n",
      "/var/folders/xq/qf2k1k454qb_jfv62h4qfhn00000gn/T/ipykernel_10670/3078349034.py:5: FutureWarning: Series.__getitem__ treating keys as positions is deprecated. In a future version, integer keys will always be treated as labels (consistent with DataFrame behavior). To access a value by position, use `ser.iloc[pos]`\n",
      "  'value': row[2],\n"
     ]
    }
   ],
   "source": [
    "for row in sheet.iloc():\n",
    "    request_body = {\n",
    "        'name': row[0],\n",
    "        'type': row[1],\n",
    "        'value': row[2],\n",
    "    }\n",
    "    print(request_body)"
   ]
  },
  {
   "cell_type": "code",
   "execution_count": null,
   "metadata": {},
   "outputs": [],
   "source": []
  }
 ],
 "metadata": {
  "kernelspec": {
   "display_name": "Python 3",
   "language": "python",
   "name": "python3"
  },
  "language_info": {
   "codemirror_mode": {
    "name": "ipython",
    "version": 3
   },
   "file_extension": ".py",
   "mimetype": "text/x-python",
   "name": "python",
   "nbconvert_exporter": "python",
   "pygments_lexer": "ipython3",
   "version": "3.9.6"
  }
 },
 "nbformat": 4,
 "nbformat_minor": 2
}
